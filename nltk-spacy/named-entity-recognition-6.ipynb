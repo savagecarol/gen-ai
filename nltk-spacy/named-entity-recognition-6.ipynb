{
 "cells": [
  {
   "cell_type": "code",
   "execution_count": 23,
   "id": "6bcbf348-e93d-4afb-ad3b-9e30892ef326",
   "metadata": {},
   "outputs": [],
   "source": [
    "paragraph = \"\"\"Thank you, David and thank you everyone for inviting me here. This is a huge privilege, not because I’m the chief guest. I think it’s a privilege mainly because I’m one of the parents who have had the opportunity. And I’ll take this opportunity on behalf of all of you to put my hands together and thank Dhirubhai Ambani International School for doing what they’re doing to our children. So, I want to thank all the teachers, all the heads of departments, Zarine and Fareeda, I mean, you’re the people I used to come to, when I have trouble I come and look at your faces and go away, and I’m calm; everything will be sorted out. Kava sir was fantastic at cricket matches and shouts louder than anyone else in the world can, all the staff members, the management, the gentleman who man the security outside; so wonderful and so even the guy who does the parking back there, everyone for the last 13 to 14 years that I have been here. And especially my friend, Mrs. Nita Ambani. Thank you so much for looking after our children. Thank you very very much.\"\"\""
   ]
  },
  {
   "cell_type": "code",
   "execution_count": 28,
   "id": "68e9f3cd-6c74-4ad7-9503-4dd52b40c01d",
   "metadata": {},
   "outputs": [
    {
     "name": "stderr",
     "output_type": "stream",
     "text": [
      "[nltk_data] Downloading package maxent_ne_chunker_tab to\n",
      "[nltk_data]     /Users/apple/nltk_data...\n",
      "[nltk_data]   Package maxent_ne_chunker_tab is already up-to-date!\n",
      "[nltk_data] Downloading package words to /Users/apple/nltk_data...\n",
      "[nltk_data]   Unzipping corpora/words.zip.\n"
     ]
    }
   ],
   "source": [
    "import nltk\n",
    "nltk.download('maxent_ne_chunker_tab')\n",
    "nltk.download('words')\n",
    "from nltk.tokenize import sent_tokenize,word_tokenize\n",
    "from nltk.stem import PorterStemmer , SnowballStemmer\n",
    "from nltk.corpus import stopwords\n",
    "from nltk.stem import WordNetLemmatizer\n",
    "from nltk import pos_tag"
   ]
  },
  {
   "cell_type": "code",
   "execution_count": null,
   "id": "6634f2e1-2f29-414c-b5a3-7aede67e7da5",
   "metadata": {},
   "outputs": [],
   "source": []
  },
  {
   "cell_type": "code",
   "execution_count": 29,
   "id": "a149a789-6547-4ca3-842c-02a456013289",
   "metadata": {},
   "outputs": [],
   "source": [
    "words = nltk.word_tokenize(sent_tokenize(paragraph)[0])"
   ]
  },
  {
   "cell_type": "code",
   "execution_count": 30,
   "id": "3bf525fd-499b-4022-b0a5-165d95df3160",
   "metadata": {},
   "outputs": [],
   "source": [
    "tag_ele = nltk.pos_tag(words)"
   ]
  },
  {
   "cell_type": "code",
   "execution_count": 33,
   "id": "be46baf3-a570-4313-b296-f53541ff0775",
   "metadata": {},
   "outputs": [],
   "source": [
    "nltk.ne_chunk(tag_ele).draw()"
   ]
  },
  {
   "cell_type": "code",
   "execution_count": null,
   "id": "50ad3397-52e0-407d-835a-015bca9dc4c6",
   "metadata": {},
   "outputs": [],
   "source": []
  },
  {
   "cell_type": "code",
   "execution_count": null,
   "id": "dbf95c59-e587-4b42-a054-46cae476c934",
   "metadata": {},
   "outputs": [],
   "source": []
  },
  {
   "cell_type": "code",
   "execution_count": null,
   "id": "560ec611-7279-4bbb-8809-d4803c1f2e45",
   "metadata": {},
   "outputs": [],
   "source": []
  }
 ],
 "metadata": {
  "kernelspec": {
   "display_name": "Python 3 (ipykernel)",
   "language": "python",
   "name": "python3"
  },
  "language_info": {
   "codemirror_mode": {
    "name": "ipython",
    "version": 3
   },
   "file_extension": ".py",
   "mimetype": "text/x-python",
   "name": "python",
   "nbconvert_exporter": "python",
   "pygments_lexer": "ipython3",
   "version": "3.9.6"
  }
 },
 "nbformat": 4,
 "nbformat_minor": 5
}
