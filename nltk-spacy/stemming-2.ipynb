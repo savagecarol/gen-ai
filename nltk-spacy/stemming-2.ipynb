{
 "cells": [
  {
   "cell_type": "code",
   "execution_count": 6,
   "id": "5b1bbe8a-53f4-4e6a-8923-f53da600b939",
   "metadata": {},
   "outputs": [],
   "source": [
    "corpus = \"\"\" Hello Welcome, to Kartikeya Sharma's NLP Tutorial. Please do watch the entirre course! become expert in nlp. I love eating paneer. Finally, I am so happy. \"\"\""
   ]
  },
  {
   "cell_type": "code",
   "execution_count": 17,
   "id": "d16d63ba-08de-437d-8703-67863df1176e",
   "metadata": {},
   "outputs": [
    {
     "name": "stdout",
     "output_type": "stream",
     "text": [
      "['Hello', 'Welcome', ',', 'to', 'Kartikeya', 'Sharma', \"'s\", 'NLP', 'Tutorial', '.', 'Please', 'do', 'watch', 'the', 'entirre', 'course', '!', 'become', 'expert', 'in', 'nlp', '.', 'I', 'love', 'eating', 'paneer', '.', 'Finally', ',', 'I', 'am', 'so', 'happy', '.']\n"
     ]
    }
   ],
   "source": [
    "from nltk.tokenize import word_tokenize\n",
    "words = word_tokenize(corpus)\n",
    "print(words)"
   ]
  },
  {
   "cell_type": "markdown",
   "id": "991cefc1-4f2b-422e-a48f-dbb01a701374",
   "metadata": {},
   "source": [
    "## PORTER STEMMER"
   ]
  },
  {
   "cell_type": "code",
   "execution_count": 27,
   "id": "f896bb7a-ca11-42c8-9b36-64147e70b375",
   "metadata": {},
   "outputs": [],
   "source": [
    "from nltk.stem import PorterStemmer"
   ]
  },
  {
   "cell_type": "code",
   "execution_count": null,
   "id": "660f7a21-c3c5-4bd4-acce-d92f580f4343",
   "metadata": {},
   "outputs": [],
   "source": []
  },
  {
   "cell_type": "code",
   "execution_count": 40,
   "id": "3528749d-1479-4870-94b0-2641e9127fab",
   "metadata": {},
   "outputs": [],
   "source": [
    "stemming = PorterStemmer()"
   ]
  },
  {
   "cell_type": "code",
   "execution_count": 30,
   "id": "679e8dc7-b091-464c-a78c-9c1ba482d77e",
   "metadata": {},
   "outputs": [
    {
     "name": "stdout",
     "output_type": "stream",
     "text": [
      "Hello-------hello\n",
      "Welcome-------welcom\n",
      ",-------,\n",
      "to-------to\n",
      "Kartikeya-------kartikeya\n",
      "Sharma-------sharma\n",
      "'s-------'s\n",
      "NLP-------nlp\n",
      "Tutorial-------tutori\n",
      ".-------.\n",
      "Please-------pleas\n",
      "do-------do\n",
      "watch-------watch\n",
      "the-------the\n",
      "entirre-------entirr\n",
      "course-------cours\n",
      "!-------!\n",
      "become-------becom\n",
      "expert-------expert\n",
      "in-------in\n",
      "nlp-------nlp\n",
      ".-------.\n",
      "I-------i\n",
      "love-------love\n",
      "eating-------eat\n",
      "paneer-------paneer\n",
      ".-------.\n",
      "Finally-------final\n",
      ",-------,\n",
      "I-------i\n",
      "am-------am\n",
      "so-------so\n",
      "happy-------happi\n",
      ".-------.\n"
     ]
    }
   ],
   "source": [
    "for word in words:\n",
    "    print(word + \"-------\" + stemming.stem(word))\n",
    "    "
   ]
  },
  {
   "cell_type": "markdown",
   "id": "432ab0c9-651c-4c1d-9681-36ba92f21d7f",
   "metadata": {},
   "source": [
    "## REGEX STEMMER"
   ]
  },
  {
   "cell_type": "code",
   "execution_count": 34,
   "id": "d034a3d9-770c-4acf-a5b2-af72ebb54220",
   "metadata": {},
   "outputs": [
    {
     "name": "stdout",
     "output_type": "stream",
     "text": [
      "Hello-----Hello\n",
      "Welcome-----Welcom\n",
      ",-----,\n",
      "to-----to\n",
      "Kartikeya-----Kartikeya\n",
      "Sharma-----Sharma\n",
      "'s-----'s\n",
      "NLP-----NLP\n",
      "Tutorial-----Tutorial\n",
      ".-----.\n",
      "Please-----Pleas\n",
      "do-----do\n",
      "watch-----watch\n",
      "the-----the\n",
      "entirre-----entirr\n",
      "course-----cours\n",
      "!-----!\n",
      "become-----becom\n",
      "expert-----expert\n",
      "in-----in\n",
      "nlp-----nlp\n",
      ".-----.\n",
      "I-----I\n",
      "love-----lov\n",
      "eating-----eat\n",
      "paneer-----paneer\n",
      ".-----.\n",
      "Finally-----Final\n",
      ",-----,\n",
      "I-----I\n",
      "am-----am\n",
      "so-----so\n",
      "happy-----happy\n",
      ".-----.\n"
     ]
    }
   ],
   "source": [
    "from nltk.stem import RegexpStemmer\n",
    "reg_stem = RegexpStemmer(\"ing$|s$|e$|able$|ly$\" , min = 4)\n",
    "for word in words:\n",
    "    print(word + \"-----\" + reg_stem.stem(word))"
   ]
  },
  {
   "cell_type": "code",
   "execution_count": null,
   "id": "5c4c2dcd-c9d0-4b3a-868b-6df0e57e4223",
   "metadata": {},
   "outputs": [],
   "source": []
  },
  {
   "cell_type": "markdown",
   "id": "c26a448e-6992-4641-aeb7-8b47e2073372",
   "metadata": {},
   "source": [
    "## snowball stemmer"
   ]
  },
  {
   "cell_type": "code",
   "execution_count": 42,
   "id": "fcb6c37c-115d-461e-83b6-24c28f5e57f3",
   "metadata": {},
   "outputs": [
    {
     "name": "stdout",
     "output_type": "stream",
     "text": [
      "Hello-----hello\n",
      "Welcome-----welcom\n",
      ",-----,\n",
      "to-----to\n",
      "Kartikeya-----kartikeya\n",
      "Sharma-----sharma\n",
      "'s-----'s\n",
      "NLP-----nlp\n",
      "Tutorial-----tutori\n",
      ".-----.\n",
      "Please-----pleas\n",
      "do-----do\n",
      "watch-----watch\n",
      "the-----the\n",
      "entirre-----entirr\n",
      "course-----cours\n",
      "!-----!\n",
      "become-----becom\n",
      "expert-----expert\n",
      "in-----in\n",
      "nlp-----nlp\n",
      ".-----.\n",
      "I-----i\n",
      "love-----love\n",
      "eating-----eat\n",
      "paneer-----paneer\n",
      ".-----.\n",
      "Finally-----final\n",
      ",-----,\n",
      "I-----i\n",
      "am-----am\n",
      "so-----so\n",
      "happy-----happi\n",
      ".-----.\n"
     ]
    }
   ],
   "source": [
    "from nltk.stem import SnowballStemmer\n",
    "snowballStemmer = SnowballStemmer(\"english\")\n",
    "for word in words:\n",
    "    print(word + \"-----\" + snowballStemmer.stem(word))\n"
   ]
  },
  {
   "cell_type": "code",
   "execution_count": null,
   "id": "63048b4f-8682-4b72-8e36-87a0aa797ec8",
   "metadata": {},
   "outputs": [],
   "source": []
  },
  {
   "cell_type": "code",
   "execution_count": null,
   "id": "68fecfd5-12f8-4fcf-8bd0-77904e9297de",
   "metadata": {},
   "outputs": [],
   "source": []
  }
 ],
 "metadata": {
  "kernelspec": {
   "display_name": "Python 3 (ipykernel)",
   "language": "python",
   "name": "python3"
  },
  "language_info": {
   "codemirror_mode": {
    "name": "ipython",
    "version": 3
   },
   "file_extension": ".py",
   "mimetype": "text/x-python",
   "name": "python",
   "nbconvert_exporter": "python",
   "pygments_lexer": "ipython3",
   "version": "3.9.6"
  }
 },
 "nbformat": 4,
 "nbformat_minor": 5
}
