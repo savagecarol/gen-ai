{
 "cells": [
  {
   "cell_type": "markdown",
   "id": "6d44beb3-1f44-4540-bda1-ba92fc729292",
   "metadata": {},
   "source": [
    "## WORDNET LEMMATIZER"
   ]
  },
  {
   "cell_type": "code",
   "execution_count": 19,
   "id": "61db7e8a-d5b3-4e8c-9dd7-949dcd41f24d",
   "metadata": {},
   "outputs": [
    {
     "name": "stderr",
     "output_type": "stream",
     "text": [
      "[nltk_data] Downloading package wordnet to /Users/apple/nltk_data...\n",
      "[nltk_data]   Package wordnet is already up-to-date!\n"
     ]
    }
   ],
   "source": [
    "import nltk\n",
    "nltk.download('wordnet')\n",
    "from nltk.stem import WordNetLemmatizer"
   ]
  },
  {
   "cell_type": "code",
   "execution_count": 20,
   "id": "e40ced10-ac67-40ca-9bfe-e8b31d63efd6",
   "metadata": {},
   "outputs": [],
   "source": [
    "lemmatizer = WordNetLemmatizer()"
   ]
  },
  {
   "cell_type": "code",
   "execution_count": 24,
   "id": "fb3d12f7-73f0-420c-83aa-6f79f46c3307",
   "metadata": {},
   "outputs": [
    {
     "data": {
      "text/plain": [
       "'go'"
      ]
     },
     "execution_count": 24,
     "metadata": {},
     "output_type": "execute_result"
    }
   ],
   "source": [
    "lemmatizer.lemmatize(\"going\" , pos = 'v') ## verb"
   ]
  },
  {
   "cell_type": "code",
   "execution_count": 25,
   "id": "2987b156-619b-41cc-93b5-59078db48cc8",
   "metadata": {},
   "outputs": [
    {
     "data": {
      "text/plain": [
       "'going'"
      ]
     },
     "execution_count": 25,
     "metadata": {},
     "output_type": "execute_result"
    }
   ],
   "source": [
    "lemmatizer.lemmatize(\"going\" , pos = 'n') ## noun"
   ]
  },
  {
   "cell_type": "code",
   "execution_count": 26,
   "id": "1f028249-f89e-4262-bb10-682d88a52981",
   "metadata": {},
   "outputs": [
    {
     "data": {
      "text/plain": [
       "'going'"
      ]
     },
     "execution_count": 26,
     "metadata": {},
     "output_type": "execute_result"
    }
   ],
   "source": [
    "lemmatizer.lemmatize(\"going\" , pos = 'a') ## adjnective"
   ]
  },
  {
   "cell_type": "code",
   "execution_count": 27,
   "id": "cfe98c10-e0ef-457e-884d-1e4c547b33ec",
   "metadata": {},
   "outputs": [],
   "source": [
    "words = [\"writing\" , \"writes\" , \"programming\" , \"program\" , \"finally\" , \"finales\" , \"history\" , \"eating\" , \"eaten\"]"
   ]
  },
  {
   "cell_type": "code",
   "execution_count": 29,
   "id": "6393b678-cb25-43c8-a4a7-42dac198e558",
   "metadata": {},
   "outputs": [
    {
     "name": "stdout",
     "output_type": "stream",
     "text": [
      "writing--------write\n",
      "writes--------write\n",
      "programming--------program\n",
      "program--------program\n",
      "finally--------finally\n",
      "finales--------finales\n",
      "history--------history\n",
      "eating--------eat\n",
      "eaten--------eat\n"
     ]
    }
   ],
   "source": [
    "for word in words:\n",
    "    print(word  + \"--------\" + lemmatizer.lemmatize(word , pos = 'v'))"
   ]
  },
  {
   "cell_type": "code",
   "execution_count": 30,
   "id": "630ea38c-0c16-4316-b72b-ab9c1cb15bb4",
   "metadata": {},
   "outputs": [
    {
     "name": "stdout",
     "output_type": "stream",
     "text": [
      "writing--------writing\n",
      "writes--------writes\n",
      "programming--------programming\n",
      "program--------program\n",
      "finally--------finally\n",
      "finales--------finale\n",
      "history--------history\n",
      "eating--------eating\n",
      "eaten--------eaten\n"
     ]
    }
   ],
   "source": [
    "for word in words:\n",
    "    print(word  + \"--------\" + lemmatizer.lemmatize(word , pos = 'n'))"
   ]
  },
  {
   "cell_type": "code",
   "execution_count": null,
   "id": "2f86931e-5f73-4fc9-b6d5-e530b9fd2523",
   "metadata": {},
   "outputs": [],
   "source": []
  }
 ],
 "metadata": {
  "kernelspec": {
   "display_name": "Python 3 (ipykernel)",
   "language": "python",
   "name": "python3"
  },
  "language_info": {
   "codemirror_mode": {
    "name": "ipython",
    "version": 3
   },
   "file_extension": ".py",
   "mimetype": "text/x-python",
   "name": "python",
   "nbconvert_exporter": "python",
   "pygments_lexer": "ipython3",
   "version": "3.9.6"
  }
 },
 "nbformat": 4,
 "nbformat_minor": 5
}
